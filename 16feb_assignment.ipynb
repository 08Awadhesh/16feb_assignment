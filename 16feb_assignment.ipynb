{
 "cells": [
  {
   "cell_type": "markdown",
   "id": "a6e28e03-40f3-483b-923b-a4d3ca587d62",
   "metadata": {},
   "source": [
    "**Q1**. What is a database? Differentiate between SQL and NoSQL databases.\n",
    "\n",
    "**Answer** **Database:** A database is a collection of data that is organized in a structured manner to facilitate efficient storage, retrieval, and management of data. It is a software system that is used to manage and store data in a manner that allows easy access and retrieval of information. Databases are used in a variety of applications, including web applications, mobile applications, and enterprise systems.\n",
    "\n",
    "SQL (Structured Query Language) and NoSQL (Not Only SQL) are two types of database management systems that differ in their structure, functionality, and usage.\n",
    "\n",
    "**Differnce between SQL and NoSQL:**\n",
    "\n",
    "SQL databases are relational databases that use tables to store data. They use SQL as their primary language for querying and manipulating data. SQL databases are widely used in applications that require a high degree of data integrity and consistency, such as financial applications, e-commerce, and inventory management systems. Examples of popular SQL databases include MySQL, Oracle, and Microsoft SQL Server.\n",
    "\n",
    "NoSQL databases, on the other hand, are non-relational databases that use document-based, key-value, or graph-based data models for storing and managing data. NoSQL databases are designed to handle large volumes of unstructured or semi-structured data, such as social media data, sensor data, and log files. NoSQL databases are highly scalable, flexible, and provide fast data access. Examples of popular NoSQL databases include MongoDB, Cassandra, and Amazon DynamoDB."
   ]
  },
  {
   "cell_type": "markdown",
   "id": "0fd6231f-97c6-4c12-9b55-ab0790997ed6",
   "metadata": {},
   "source": [
    "**Q2:** What is DDL? Explain why CREATE, DROP, ALTER, and TRUNCATE are used with an example.\n",
    "\n",
    "**Answer**:DDL (Data Definition Language) is a subset of SQL that is used to define and manipulate the structure of a database. DDL statements are used to create, modify, and delete database objects such as tables, indexes, and constraints.\n",
    "\n",
    "**(1) CREATE:** The CREATE statement is used to create new database objects such as tables, indexes, and views. For example, the following SQL statement creates a new table called \"employees\" with columns for employee ID, name, and salary:\n"
   ]
  },
  {
   "cell_type": "markdown",
   "id": "b83c1ea7-b797-414a-960d-4d27f02dd13d",
   "metadata": {},
   "source": [
    "CREATE TABLE employees (\n",
    "    id INT PRIMARY KEY,\n",
    "    name VARCHAR(50),\n",
    "    salary DECIMAL(10,2)\n",
    ");\n"
   ]
  },
  {
   "cell_type": "markdown",
   "id": "55b9cd42-47ef-414d-b5b0-8f19a5d481d2",
   "metadata": {},
   "source": [
    "**(2) DROP:** The DROP statement is used to delete database objects such as tables, indexes, and views. For example, the following SQL statement drops the \"employees\" table:\n"
   ]
  },
  {
   "cell_type": "markdown",
   "id": "fbd1ac63-c891-4333-a8e3-0a7f158a6bf1",
   "metadata": {},
   "source": [
    "DROP TABLE employees;\n"
   ]
  },
  {
   "cell_type": "markdown",
   "id": "b4c45c41-8688-4f84-a390-4ae39d7c8c64",
   "metadata": {},
   "source": [
    "**(3) ALTER:** The ALTER statement is used to modify the structure of existing database objects such as tables, indexes, and views. For example, the following SQL statement adds a new column called \"email\" to the \"employees\" table:"
   ]
  },
  {
   "cell_type": "markdown",
   "id": "801f2fae-6310-46d0-b24d-bb93b998b2b0",
   "metadata": {},
   "source": [
    "ALTER TABLE employees ADD COLUMN email VARCHAR(50);\n"
   ]
  },
  {
   "cell_type": "markdown",
   "id": "54ec3d53-4324-41bf-b676-2e6a414545c1",
   "metadata": {},
   "source": [
    "**(4) TRUNCATE:** The TRUNCATE statement is used to delete all the data from a table, while keeping the structure of the table intact. For example, the following SQL statement truncates the \"employees\" table:\n",
    "\n",
    "TRUNCATE TABLE employees;\n"
   ]
  },
  {
   "cell_type": "markdown",
   "id": "60e4d0d2-78fc-45d5-9cbe-3343387272d4",
   "metadata": {},
   "source": [
    "**Q3** What is DML? Explain INSERT, UPDATE, and DELETE with an example.\n",
    "\n",
    "**Answer**:DML (Data Manipulation Language) is a subset of SQL that is used to manipulate data within a database. DML statements are used to insert, update, and delete data from database tables.\n",
    "\n",
    "**(I) INSERT**:The INSERT statement is used to add new rows to a table. For example, the following SQL statement inserts a new row into the \"employees\" table:\n",
    "INSERT INTO employees (id, name, salary) VALUES (1, 'John Smith', 50000);\n",
    "\n",
    "**(II) UPDATE:** The UPDATE statement is used to modify existing data in a table. For example, the following SQL statement updates the salary of an employee with the \"id\" of 1:\n",
    "\n",
    "UPDATE employees SET salary = 60000 WHERE id = 1;\n",
    "\n",
    "**(III) DELETE:**:The DELETE statement is used to remove rows from a table. For example, the following SQL statement deletes an employee with the \"id\" of 1:\n",
    "\n",
    "DELETE FROM employees WHERE id = 1;\n",
    "\n"
   ]
  },
  {
   "cell_type": "markdown",
   "id": "8f3e3dff-24a2-4eb9-88f7-9e8a678e767f",
   "metadata": {},
   "source": [
    "**Q4:** What is DQL? Explain SELECT with an example.\n",
    "\n",
    "**Answer:** DQL (Data Query Language) is a subset of SQL that is used to query and retrieve data from a database. DQL statements are used to retrieve data from database tables.\n",
    "The most common DQL statement is SELECT. The SELECT statement is used to retrieve data from one or more tables in a database.\n",
    "\n",
    "Here is an example of a SELECT statement:\n",
    "\n",
    "SELECT name, salary FROM employees WHERE salary > 50000;\n",
    "\n",
    "The SELECT statement consists of several clauses:\n",
    "\n",
    "SELECT: This clause specifies the columns to retrieve from the table.\n",
    "\n",
    "FROM: This clause specifies the table to retrieve the data from.\n",
    "\n",
    "WHERE: This clause specifies the conditions that the data must meet to be included in the results. In this example, the condition is that the \"salary\" column must be greater than 50000"
   ]
  },
  {
   "cell_type": "markdown",
   "id": "f5d2e495-b41d-4536-9d6d-f17cf4569aa9",
   "metadata": {},
   "source": [
    "**Q5:** Explain Primary Key and Foreign Key.\n",
    "\n",
    "**Answer: Primary key** A primary key is a column or set of columns in a table that uniquely identifies each row in that table. Primary keys ensure that each row in a table can be identified and accessed in a unique way. Primary keys can be used to enforce data integrity, as they prevent duplicate rows and ensure that each row has a unique identity.\n",
    "\n",
    "For example, in a table of employees, the \"employee_id\" column could be used as the primary key. This would ensure that each row in the table represents a unique employee, and that no two employees can have the same \"employee_id\" value.\n",
    "\n",
    "**forgin key** A foreign key is a column or set of columns in one table that refers to the primary key of another table. Foreign keys define relationships between tables and ensure that data is consistent between related tables.\n",
    "\n",
    "For example, in a table of orders, there might be a column \"customer_id\" that refers to the primary key of a table of customers. This would ensure that each order is associated with a specific customer, and that the customer information is consistent between the orders table and the customers table."
   ]
  },
  {
   "cell_type": "markdown",
   "id": "caaf5378-5f20-4f60-96c0-c396b0e7c840",
   "metadata": {},
   "source": [
    "**Q6:** Write a python code to connect MySQL to python. Explain the cursor() and execute() method.\n",
    "\n",
    "**Answer:**"
   ]
  },
  {
   "cell_type": "code",
   "execution_count": null,
   "id": "1f4b7890-6eb2-41ab-890e-8be363c070fa",
   "metadata": {},
   "outputs": [],
   "source": [
    "import mysql.connector\n",
    "\n",
    "# Connect to the database\n",
    "mydb = mysql.connector.connect(\n",
    "  host=\"localhost\",\n",
    "  user=\"yourusername\",\n",
    "  password=\"yourpassword\",\n",
    "  database=\"yourdatabase\"\n",
    ")\n",
    "\n",
    "# Create a cursor object\n",
    "mycursor = mydb.cursor()\n",
    "\n",
    "# Execute a query\n",
    "mycursor.execute(\"SELECT * FROM yourtable\")\n",
    "\n",
    "# Fetch the results\n",
    "results = mycursor.fetchall()\n",
    "\n",
    "# Print the results\n",
    "for row in results:\n",
    "  print(row)\n"
   ]
  },
  {
   "cell_type": "markdown",
   "id": "9f00a5e2-0aa3-4828-851d-7d71a237f218",
   "metadata": {},
   "source": [
    "The cursor() method creates a cursor object that allows Python to interact with the database. The cursor object is used to execute SQL statements and retrieve results.\n",
    "\n",
    "The execute() method is used to execute an SQL statement, such as a SELECT or INSERT query. The SQL statement is passed as a string argument to the execute() method. The execute() method returns the number of rows affected by the query.\n"
   ]
  },
  {
   "cell_type": "markdown",
   "id": "476ee0a3-f2f1-4361-9a7e-66675499b2b4",
   "metadata": {},
   "source": [
    "**Q7:** Give the order of execution of SQL clauses in an SQL query.\n",
    "\n",
    "**Answer:** In a SQL query, the clauses are executed in the following order:\n",
    "\n",
    "(1) FROM: Specifies the table(s) from which data will be retrieved.\n",
    "\n",
    "(2) JOIN: Joins additional tables to the ones specified in the FROM clause.\n",
    "\n",
    "(3) WHERE: Filters the data based on the specified conditions.\n",
    "\n",
    "(4) GROUP BY: Groups the data based on specified columns.\n",
    "\n",
    "(5) HAVING: Filters the grouped data based on specified conditions.\n",
    "\n",
    "(6) SELECT: Selects the columns to be retrieved from the tables.\n",
    "\n",
    "(7) DISTINCT: Removes duplicates from the result set.\n",
    "\n",
    "(8) ORDER BY: Sorts the result set based on specified columns.\n",
    "\n",
    "(9) LIMIT: Limits the number of rows returned by the query."
   ]
  },
  {
   "cell_type": "code",
   "execution_count": null,
   "id": "4695ba34-de10-4445-a1c5-e8de6b00933e",
   "metadata": {},
   "outputs": [],
   "source": []
  }
 ],
 "metadata": {
  "kernelspec": {
   "display_name": "Python 3 (ipykernel)",
   "language": "python",
   "name": "python3"
  },
  "language_info": {
   "codemirror_mode": {
    "name": "ipython",
    "version": 3
   },
   "file_extension": ".py",
   "mimetype": "text/x-python",
   "name": "python",
   "nbconvert_exporter": "python",
   "pygments_lexer": "ipython3",
   "version": "3.10.8"
  }
 },
 "nbformat": 4,
 "nbformat_minor": 5
}
